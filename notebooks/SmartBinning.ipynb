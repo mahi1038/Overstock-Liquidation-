{
  "nbformat": 4,
  "nbformat_minor": 0,
  "metadata": {
    "colab": {
      "provenance": [],
      "gpuType": "T4",
      "authorship_tag": "ABX9TyMgEiFancs3LUnyzXBMmGTZ",
      "include_colab_link": true
    },
    "kernelspec": {
      "name": "python3",
      "display_name": "Python 3"
    },
    "language_info": {
      "name": "python"
    },
    "accelerator": "GPU"
  },
  "cells": [
    {
      "cell_type": "markdown",
      "metadata": {
        "id": "view-in-github",
        "colab_type": "text"
      },
      "source": [
        "<a href=\"https://colab.research.google.com/github/mahi1038/Overstock-Liquidation-/blob/main/notebooks/SmartBinning.ipynb\" target=\"_parent\"><img src=\"https://colab.research.google.com/assets/colab-badge.svg\" alt=\"Open In Colab\"/></a>"
      ]
    },
    {
      "cell_type": "markdown",
      "source": [
        "**<h1> Smart Binning**"
      ],
      "metadata": {
        "id": "Cp5PTuWyze_l"
      }
    },
    {
      "cell_type": "markdown",
      "source": [
        "What is Smart Binning?\n",
        "\n",
        "In simple language, grouping items together intelligently for clearance sales. Instead of putting all overstock items in random buckets,\n",
        "\n",
        "Which items belong together in the same “bin” (because similar customers buy them).\n",
        "\n",
        "Which bins are likely to clear faster based on price sensitivity, demand overlap, and local trends.\n",
        "\n",
        "🎯 Example:\n",
        "\n",
        "🥛 Milk and 🥣 Cereal → go in one smart bin because they are often bought together.\n",
        "\n",
        "👗 Party dresses and 👠 heels → go in another bin for a different audience."
      ],
      "metadata": {
        "id": "xnyjU4FWzrti"
      }
    },
    {
      "cell_type": "code",
      "source": [
        "pip install hdbscan\n"
      ],
      "metadata": {
        "colab": {
          "base_uri": "https://localhost:8080/"
        },
        "id": "9e9FNz2ODp7Z",
        "outputId": "0d0cbdac-6cff-4873-d665-348cabcaaa5d"
      },
      "execution_count": 6,
      "outputs": [
        {
          "output_type": "stream",
          "name": "stdout",
          "text": [
            "Requirement already satisfied: hdbscan in /usr/local/lib/python3.11/dist-packages (0.8.40)\n",
            "Requirement already satisfied: numpy<3,>=1.20 in /usr/local/lib/python3.11/dist-packages (from hdbscan) (2.0.2)\n",
            "Requirement already satisfied: scipy>=1.0 in /usr/local/lib/python3.11/dist-packages (from hdbscan) (1.15.3)\n",
            "Requirement already satisfied: scikit-learn>=0.20 in /usr/local/lib/python3.11/dist-packages (from hdbscan) (1.6.1)\n",
            "Requirement already satisfied: joblib>=1.0 in /usr/local/lib/python3.11/dist-packages (from hdbscan) (1.5.1)\n",
            "Requirement already satisfied: threadpoolctl>=3.1.0 in /usr/local/lib/python3.11/dist-packages (from scikit-learn>=0.20->hdbscan) (3.6.0)\n"
          ]
        }
      ]
    },
    {
      "cell_type": "markdown",
      "source": [
        "HDBSCAN is like DBSCAN but smarter:\n",
        "\n",
        "It automatically finds clusters of varying density.\n",
        "\n",
        "Handles outliers gracefully without tuning eps."
      ],
      "metadata": {
        "id": "eO6AxpvYD_L6"
      }
    },
    {
      "cell_type": "code",
      "source": [
        "import matplotlib.pyplot as plt\n",
        "from sklearn.decomposition import PCA\n",
        "import pandas as pd\n",
        "import hdbscan\n",
        "from sklearn.preprocessing import StandardScaler, LabelEncoder"
      ],
      "metadata": {
        "id": "MFGSuzw11ZAx"
      },
      "execution_count": 7,
      "outputs": []
    },
    {
      "cell_type": "code",
      "source": [
        "final_df= pd.read_csv(\"train.csv\")"
      ],
      "metadata": {
        "id": "BhSp4QWN4AeP"
      },
      "execution_count": 8,
      "outputs": []
    },
    {
      "cell_type": "code",
      "source": [
        "\n",
        "# Encode store_id and state_id, basically turning them into numbers so our ML model can understand them. 1 for tx etc\n",
        "\n",
        "final_df['store_encoded'] = LabelEncoder().fit_transform(final_df['store_id'])\n",
        "final_df['state_encoded'] = LabelEncoder().fit_transform(final_df['state_id'])\n",
        "\n",
        "# Features for clustering\n",
        "features = final_df[[\n",
        "    'sell_price', 'rolling_mean_28', 'price_pct_change',\n",
        "    'store_encoded', 'state_encoded'\n",
        "]].fillna(0)\n",
        "\n",
        "# Scale features so all features contribute equally\n",
        "scaler = StandardScaler()\n",
        "scaled_features = scaler.fit_transform(features)\n",
        "\n",
        "\n"
      ],
      "metadata": {
        "id": "yIe6ccpWDsxC"
      },
      "execution_count": 9,
      "outputs": []
    },
    {
      "cell_type": "markdown",
      "source": [
        "bin=-1 means SKUs are outliers (don’t belong to any smart bin)."
      ],
      "metadata": {
        "id": "XCudcy2lDysI"
      }
    },
    {
      "cell_type": "code",
      "source": [
        "best_persistence = 0\n",
        "best_size = 50\n",
        "'''\n",
        "\n",
        "cluster_persistence_: How “strong” each cluster is\n",
        "You can try multiple runs and maximize mean cluster persistence\n",
        "\n",
        "'''\n",
        "\n",
        "for size in range(20, 150, 10):\n",
        "    clusterer = hdbscan.HDBSCAN(min_cluster_size=size)\n",
        "    clusterer.fit(scaled_features)\n",
        "    avg_persistence = clusterer.cluster_persistence_.mean()\n",
        "\n",
        "    if avg_persistence > best_persistence:\n",
        "        best_persistence = avg_persistence\n",
        "        best_size = size\n",
        "\n",
        "print(f\"Best min_cluster_size: {best_size}, Avg Persistence: {best_persistence:.2f}\")\n",
        "\n",
        "\n",
        "# Apply HDBSCAN -> Too low → Too many tiny clusters, noisy bins. Too high → Few giant clusters, you lose nuance.\n",
        "clusterer = hdbscan.HDBSCAN(min_cluster_size=best_size, prediction_data=True)\n",
        "final_df['bin'] = clusterer.fit_predict(scaled_features)\n",
        "\n",
        "# Outliers are labeled -1\n",
        "print(final_df['bin'].value_counts())"
      ],
      "metadata": {
        "colab": {
          "base_uri": "https://localhost:8080/"
        },
        "id": "Mdd10x2V1WRC",
        "outputId": "e5e4035e-2e21-4dc0-8b5d-0a4334fc0401"
      },
      "execution_count": 10,
      "outputs": [
        {
          "output_type": "stream",
          "name": "stderr",
          "text": [
            "/usr/local/lib/python3.11/dist-packages/sklearn/utils/deprecation.py:151: FutureWarning: 'force_all_finite' was renamed to 'ensure_all_finite' in 1.6 and will be removed in 1.8.\n",
            "  warnings.warn(\n",
            "/usr/local/lib/python3.11/dist-packages/sklearn/utils/deprecation.py:151: FutureWarning: 'force_all_finite' was renamed to 'ensure_all_finite' in 1.6 and will be removed in 1.8.\n",
            "  warnings.warn(\n",
            "/usr/local/lib/python3.11/dist-packages/sklearn/utils/deprecation.py:151: FutureWarning: 'force_all_finite' was renamed to 'ensure_all_finite' in 1.6 and will be removed in 1.8.\n",
            "  warnings.warn(\n",
            "/usr/local/lib/python3.11/dist-packages/sklearn/utils/deprecation.py:151: FutureWarning: 'force_all_finite' was renamed to 'ensure_all_finite' in 1.6 and will be removed in 1.8.\n",
            "  warnings.warn(\n",
            "/usr/local/lib/python3.11/dist-packages/sklearn/utils/deprecation.py:151: FutureWarning: 'force_all_finite' was renamed to 'ensure_all_finite' in 1.6 and will be removed in 1.8.\n",
            "  warnings.warn(\n",
            "/usr/local/lib/python3.11/dist-packages/sklearn/utils/deprecation.py:151: FutureWarning: 'force_all_finite' was renamed to 'ensure_all_finite' in 1.6 and will be removed in 1.8.\n",
            "  warnings.warn(\n",
            "/usr/local/lib/python3.11/dist-packages/sklearn/utils/deprecation.py:151: FutureWarning: 'force_all_finite' was renamed to 'ensure_all_finite' in 1.6 and will be removed in 1.8.\n",
            "  warnings.warn(\n",
            "/usr/local/lib/python3.11/dist-packages/sklearn/utils/deprecation.py:151: FutureWarning: 'force_all_finite' was renamed to 'ensure_all_finite' in 1.6 and will be removed in 1.8.\n",
            "  warnings.warn(\n",
            "/usr/local/lib/python3.11/dist-packages/sklearn/utils/deprecation.py:151: FutureWarning: 'force_all_finite' was renamed to 'ensure_all_finite' in 1.6 and will be removed in 1.8.\n",
            "  warnings.warn(\n",
            "/usr/local/lib/python3.11/dist-packages/sklearn/utils/deprecation.py:151: FutureWarning: 'force_all_finite' was renamed to 'ensure_all_finite' in 1.6 and will be removed in 1.8.\n",
            "  warnings.warn(\n",
            "/usr/local/lib/python3.11/dist-packages/sklearn/utils/deprecation.py:151: FutureWarning: 'force_all_finite' was renamed to 'ensure_all_finite' in 1.6 and will be removed in 1.8.\n",
            "  warnings.warn(\n",
            "/usr/local/lib/python3.11/dist-packages/sklearn/utils/deprecation.py:151: FutureWarning: 'force_all_finite' was renamed to 'ensure_all_finite' in 1.6 and will be removed in 1.8.\n",
            "  warnings.warn(\n",
            "/usr/local/lib/python3.11/dist-packages/sklearn/utils/deprecation.py:151: FutureWarning: 'force_all_finite' was renamed to 'ensure_all_finite' in 1.6 and will be removed in 1.8.\n",
            "  warnings.warn(\n",
            "/usr/local/lib/python3.11/dist-packages/sklearn/utils/deprecation.py:151: FutureWarning: 'force_all_finite' was renamed to 'ensure_all_finite' in 1.6 and will be removed in 1.8.\n",
            "  warnings.warn(\n",
            "/usr/local/lib/python3.11/dist-packages/sklearn/utils/deprecation.py:151: FutureWarning: 'force_all_finite' was renamed to 'ensure_all_finite' in 1.6 and will be removed in 1.8.\n",
            "  warnings.warn(\n",
            "/usr/local/lib/python3.11/dist-packages/sklearn/utils/deprecation.py:151: FutureWarning: 'force_all_finite' was renamed to 'ensure_all_finite' in 1.6 and will be removed in 1.8.\n",
            "  warnings.warn(\n",
            "/usr/local/lib/python3.11/dist-packages/sklearn/utils/deprecation.py:151: FutureWarning: 'force_all_finite' was renamed to 'ensure_all_finite' in 1.6 and will be removed in 1.8.\n",
            "  warnings.warn(\n",
            "/usr/local/lib/python3.11/dist-packages/sklearn/utils/deprecation.py:151: FutureWarning: 'force_all_finite' was renamed to 'ensure_all_finite' in 1.6 and will be removed in 1.8.\n",
            "  warnings.warn(\n",
            "/usr/local/lib/python3.11/dist-packages/sklearn/utils/deprecation.py:151: FutureWarning: 'force_all_finite' was renamed to 'ensure_all_finite' in 1.6 and will be removed in 1.8.\n",
            "  warnings.warn(\n",
            "/usr/local/lib/python3.11/dist-packages/sklearn/utils/deprecation.py:151: FutureWarning: 'force_all_finite' was renamed to 'ensure_all_finite' in 1.6 and will be removed in 1.8.\n",
            "  warnings.warn(\n",
            "/usr/local/lib/python3.11/dist-packages/sklearn/utils/deprecation.py:151: FutureWarning: 'force_all_finite' was renamed to 'ensure_all_finite' in 1.6 and will be removed in 1.8.\n",
            "  warnings.warn(\n",
            "/usr/local/lib/python3.11/dist-packages/sklearn/utils/deprecation.py:151: FutureWarning: 'force_all_finite' was renamed to 'ensure_all_finite' in 1.6 and will be removed in 1.8.\n",
            "  warnings.warn(\n",
            "/usr/local/lib/python3.11/dist-packages/sklearn/utils/deprecation.py:151: FutureWarning: 'force_all_finite' was renamed to 'ensure_all_finite' in 1.6 and will be removed in 1.8.\n",
            "  warnings.warn(\n",
            "/usr/local/lib/python3.11/dist-packages/sklearn/utils/deprecation.py:151: FutureWarning: 'force_all_finite' was renamed to 'ensure_all_finite' in 1.6 and will be removed in 1.8.\n",
            "  warnings.warn(\n",
            "/usr/local/lib/python3.11/dist-packages/sklearn/utils/deprecation.py:151: FutureWarning: 'force_all_finite' was renamed to 'ensure_all_finite' in 1.6 and will be removed in 1.8.\n",
            "  warnings.warn(\n",
            "/usr/local/lib/python3.11/dist-packages/sklearn/utils/deprecation.py:151: FutureWarning: 'force_all_finite' was renamed to 'ensure_all_finite' in 1.6 and will be removed in 1.8.\n",
            "  warnings.warn(\n"
          ]
        },
        {
          "output_type": "stream",
          "name": "stdout",
          "text": [
            "Best min_cluster_size: 20, Avg Persistence: 1.00\n"
          ]
        },
        {
          "output_type": "stream",
          "name": "stderr",
          "text": [
            "/usr/local/lib/python3.11/dist-packages/sklearn/utils/deprecation.py:151: FutureWarning: 'force_all_finite' was renamed to 'ensure_all_finite' in 1.6 and will be removed in 1.8.\n",
            "  warnings.warn(\n",
            "/usr/local/lib/python3.11/dist-packages/sklearn/utils/deprecation.py:151: FutureWarning: 'force_all_finite' was renamed to 'ensure_all_finite' in 1.6 and will be removed in 1.8.\n",
            "  warnings.warn(\n"
          ]
        },
        {
          "output_type": "stream",
          "name": "stdout",
          "text": [
            "bin\n",
            "-1      28879\n",
            " 181      207\n",
            " 127      198\n",
            " 111      183\n",
            " 317      182\n",
            "        ...  \n",
            " 124       21\n",
            " 381       20\n",
            " 259       20\n",
            " 169       20\n",
            " 341       20\n",
            "Name: count, Length: 439, dtype: int64\n"
          ]
        }
      ]
    },
    {
      "cell_type": "code",
      "source": [
        "# Reduce to 2D\n",
        "pca = PCA(n_components=2)\n",
        "reduced_features = pca.fit_transform(scaled_features)\n",
        "\n",
        "# Plot\n",
        "plt.figure(figsize=(10, 6))\n",
        "plt.scatter(\n",
        "    reduced_features[:, 0], reduced_features[:, 1],\n",
        "    c=final_df['bin'], cmap='tab20', s=10\n",
        ")\n",
        "plt.colorbar(label='Cluster ID')\n",
        "plt.title('Smart Bins Visualization (HDBSCAN)')\n",
        "plt.xlabel('PCA Component 1')\n",
        "plt.ylabel('PCA Component 2')\n",
        "plt.show()\n"
      ],
      "metadata": {
        "colab": {
          "base_uri": "https://localhost:8080/",
          "height": 564
        },
        "id": "zY7iQ_5RDzUc",
        "outputId": "12948bcc-9d7f-4bda-8ef5-32b42f46ed29"
      },
      "execution_count": 11,
      "outputs": [
        {
          "output_type": "display_data",
          "data": {
            "text/plain": [
              "<Figure size 1000x600 with 2 Axes>"
            ],
            "image/png": "[encoded data removed]"
          },
          "metadata": {}
        }
      ]
    },
    {
      "cell_type": "markdown",
      "source": [
        "In our dataset, every SKU (product) has these properties:\n",
        "\n",
        "Demand trends (recent sales, seasonality)\n",
        "\n",
        "Price elasticity (how sensitive buyers are to price changes)\n",
        "\n",
        "Location (state, store)\n",
        "\n",
        "Customer preference overlap (items often bought together)\n",
        "\n",
        "We can use clustering algorithms like K-Means or DBSCAN to group SKUs into \"smart bins\" based on these features. Each bin will then get its own clearance strategy (e.g., discount %, marketing to certain buyers, etc.)."
      ],
      "metadata": {
        "id": "IrbfaGfnC70C"
      }
    },
    {
      "cell_type": "code",
      "source": [
        "# Group SKUs into bins by store and state\n",
        "bin_summary = (\n",
        "    final_df.groupby(['bin', 'state_id', 'store_id'])\n",
        "    .agg({\n",
        "        'item_id': 'count',\n",
        "        'sell_price': 'mean',\n",
        "        'rolling_mean_28': 'mean'\n",
        "    })\n",
        "    .rename(columns={'item_id': 'num_items'})\n",
        "    .reset_index()\n",
        ")\n",
        "\n",
        "# Save bin summary\n",
        "bin_summary.to_csv('smart_bins_summary.csv', index=False)\n",
        "\n",
        "# Save SKU to bin mapping\n",
        "final_df[['item_id', 'store_id', 'state_id', 'bin']].to_csv('sku_bin_mapping.csv', index=False)\n",
        "\n",
        "print(\"✅ Smart bins created and saved!\")\n"
      ],
      "metadata": {
        "colab": {
          "base_uri": "https://localhost:8080/"
        },
        "id": "vljnN2PZD3o5",
        "outputId": "3eeb25c5-08a1-4729-ce9b-1fe5473a0244"
      },
      "execution_count": 12,
      "outputs": [
        {
          "output_type": "stream",
          "name": "stdout",
          "text": [
            "✅ Smart bins created and saved!\n"
          ]
        }
      ]
    },
    {
      "cell_type": "markdown",
      "source": [
        "We want features that determine similarity for clearance:\n",
        "\n",
        "sell_price\n",
        "\n",
        "rolling_mean_28 (recent sales trends)\n",
        "\n",
        "price_pct_change (price sensitivity)\n",
        "\n",
        "dept_id (to keep related products together)\n",
        "\n",
        "state_id (location effect)"
      ],
      "metadata": {
        "id": "NitF3d93DByK"
      }
    },
    {
      "cell_type": "markdown",
      "source": [
        " Score Smart Bins for Clearance Priority\n",
        "We’ll assign a priority score for each bin:\n",
        "\n",
        "📉 Low Sales Trend → Higher Priority\n",
        "\n",
        "💲 High Price Elasticity → Higher Priority\n",
        "\n",
        "📦 Few Items Left → Higher Priority\n",
        "\n"
      ],
      "metadata": {
        "id": "dOY2bxqbE1Ps"
      }
    },
    {
      "cell_type": "code",
      "source": [
        "def score_bins(final_df):\n",
        "    \"\"\"\n",
        "    Scores bins for clearance priority\n",
        "    \"\"\"\n",
        "    bin_scores = (\n",
        "        final_df[final_df['bin'] != -1]  # exclude outliers\n",
        "        .groupby('bin')\n",
        "        .agg({\n",
        "            'rolling_mean_28': 'mean',  # avg recent sales\n",
        "            'price_pct_change': 'mean',  # price sensitivity\n",
        "            'item_id': 'count'           # SKU count\n",
        "        })\n",
        "        .rename(columns={'item_id': 'num_items'})\n",
        "        .reset_index()\n",
        "    )\n",
        "\n",
        "    # Calculate priority score (lower sales & higher price change = higher score)\n",
        "    bin_scores['priority_score'] = (\n",
        "        (1 / (bin_scores['rolling_mean_28'] + 1)) * 0.5 +\n",
        "        bin_scores['price_pct_change'].abs() * 0.3 +\n",
        "        (1 / (bin_scores['num_items'] + 1)) * 0.2\n",
        "    )\n",
        "\n",
        "    # Sort by priority\n",
        "    bin_scores = bin_scores.sort_values(by='priority_score', ascending=False)\n",
        "    return bin_scores\n"
      ],
      "metadata": {
        "id": "IsHogViWE3Qp"
      },
      "execution_count": 13,
      "outputs": []
    },
    {
      "cell_type": "code",
      "source": [
        "bin_scores = score_bins(final_df)\n",
        "print(bin_scores)"
      ],
      "metadata": {
        "colab": {
          "base_uri": "https://localhost:8080/"
        },
        "id": "Ar775NiEE5iN",
        "outputId": "5624bb45-40f8-4eb6-fee9-6aa6976785d7"
      },
      "execution_count": 14,
      "outputs": [
        {
          "output_type": "stream",
          "name": "stdout",
          "text": [
            "     bin  rolling_mean_28  price_pct_change  num_items  priority_score\n",
            "328  328              0.0               0.0         21        0.509091\n",
            "386  386              0.0               0.0         21        0.509091\n",
            "124  124              0.0               0.0         21        0.509091\n",
            "134  134              0.0               0.0         21        0.509091\n",
            "288  288              0.0               0.0         21        0.509091\n",
            "..   ...              ...               ...        ...             ...\n",
            "234  234              NaN               0.0         22             NaN\n",
            "314  314              NaN               0.0         24             NaN\n",
            "322  322              NaN               0.0         27             NaN\n",
            "377  377              NaN               0.0         31             NaN\n",
            "399  399              NaN               0.0         23             NaN\n",
            "\n",
            "[438 rows x 5 columns]\n"
          ]
        }
      ]
    },
    {
      "cell_type": "markdown",
      "source": [
        "Simulate Clearance Campaigns\n",
        "\n",
        "This step predicts bin clearance success under different discounts."
      ],
      "metadata": {
        "id": "gDyRi-B1E9--"
      }
    },
    {
      "cell_type": "code",
      "source": [
        "def simulate_clearance(final_df, bin_scores, discount_levels=[0.1, 0.2, 0.3, 0.5]):\n",
        "    \"\"\"\n",
        "    Simulate clearance campaigns by applying discounts\n",
        "    and estimating revenue for each bin at multiple discount levels.\n",
        "    \"\"\"\n",
        "    results = []\n",
        "\n",
        "    for discount in discount_levels:\n",
        "        for bin_id in bin_scores['bin']:\n",
        "            # Filter SKUs in this bin\n",
        "            bin_data = final_df[final_df['bin'] == bin_id].copy()\n",
        "\n",
        "            # Handle NaNs: replace missing price elasticity with 0 (no effect)\n",
        "            price_elasticity = bin_data['price_pct_change'].fillna(0).mean()\n",
        "\n",
        "            # If rolling_mean_28 is missing, assume 0 sales\n",
        "            bin_data['rolling_mean_28'] = bin_data['rolling_mean_28'].fillna(0)\n",
        "\n",
        "            # Simulate increased sales due to discount\n",
        "            simulated_sales = bin_data['rolling_mean_28'] * (1 + price_elasticity * discount * 10)\n",
        "\n",
        "            # Ensure no negative simulated sales\n",
        "            simulated_sales = simulated_sales.clip(lower=0)\n",
        "\n",
        "            # Calculate total revenue after applying discount\n",
        "            discounted_price = bin_data['sell_price'] * (1 - discount)\n",
        "            total_revenue = (discounted_price * simulated_sales).sum()\n",
        "\n",
        "            results.append({\n",
        "                'bin': bin_id,\n",
        "                'discount': discount,\n",
        "                'simulated_revenue': round(total_revenue, 2)\n",
        "            })\n",
        "\n",
        "    # Combine results into a DataFrame\n",
        "    campaign_df = pd.DataFrame(results)\n",
        "    return campaign_df\n"
      ],
      "metadata": {
        "id": "TwcaBfvTE8Mp"
      },
      "execution_count": 19,
      "outputs": []
    },
    {
      "cell_type": "code",
      "source": [
        "# Run simulation\n",
        "campaign_results = simulate_clearance(final_df, bin_scores)"
      ],
      "metadata": {
        "id": "IfVBwvMl7U5t"
      },
      "execution_count": 22,
      "outputs": []
    },
    {
      "cell_type": "code",
      "source": [
        "# Filter and print only rows where revenue is NOT zero\n",
        "non_zero_revenue = campaign_results[campaign_results['simulated_revenue'] > 0]\n",
        "\n",
        "print(\"📈 Bins where simulated revenue > 0:\")\n",
        "print(non_zero_revenue.head(10))  # Show top 10 rows\n"
      ],
      "metadata": {
        "colab": {
          "base_uri": "https://localhost:8080/"
        },
        "id": "h98zoyp-7P0q",
        "outputId": "212f458c-7ecd-4ea9-8ecf-6db72b67ac82"
      },
      "execution_count": 24,
      "outputs": [
        {
          "output_type": "stream",
          "name": "stdout",
          "text": [
            "📈 Bins where simulated revenue > 0:\n",
            "     bin  discount  simulated_revenue\n",
            "58   200       0.1               0.09\n",
            "71   375       0.1               0.05\n",
            "91   404       0.1               0.06\n",
            "112  292       0.1               0.17\n",
            "120  323       0.1               0.06\n",
            "125  308       0.1               0.09\n",
            "126  419       0.1               0.09\n",
            "127  199       0.1               0.11\n",
            "132  427       0.1               0.06\n",
            "138  137       0.1               0.53\n"
          ]
        }
      ]
    },
    {
      "cell_type": "code",
      "source": [
        "print(campaign_results.head())\n"
      ],
      "metadata": {
        "colab": {
          "base_uri": "https://localhost:8080/"
        },
        "id": "idPrDybNFAg6",
        "outputId": "6bca6a22-a4de-404d-b1b0-6a27374166ed"
      },
      "execution_count": 23,
      "outputs": [
        {
          "output_type": "stream",
          "name": "stdout",
          "text": [
            "   bin  discount  simulated_revenue\n",
            "0  328       0.1                0.0\n",
            "1  386       0.1                0.0\n",
            "2  124       0.1                0.0\n",
            "3  134       0.1                0.0\n",
            "4  288       0.1                0.0\n"
          ]
        }
      ]
    },
    {
      "cell_type": "markdown",
      "source": [
        "Scoring Bins\n",
        "\n",
        "✅ After binning, you summarize each bin in bin_scores.\n",
        "\n",
        "This calculates for each bin:\n",
        "\n",
        "Average sales (rolling_mean_28)\n",
        "\n",
        "Average price change (price_pct_change)\n",
        "\n",
        "Number of SKUs (num_items)\n",
        "\n"
      ],
      "metadata": {
        "id": "lvrAy4GG8RxP"
      }
    },
    {
      "cell_type": "code",
      "source": [
        "# Score bins\n",
        "bin_scores = score_bins(final_df)"
      ],
      "metadata": {
        "id": "mdNNVyK58RXd"
      },
      "execution_count": 27,
      "outputs": []
    },
    {
      "cell_type": "markdown",
      "source": [
        "Simulate Clearance Campaigns\n",
        "\n",
        "✅ Here you run simulations like:\n",
        "\n",
        "“If I apply a 10% discount to Bin 0, how much revenue will I make?”\n",
        "\n",
        "“What if I try 50% discount on Bin 1?”\n",
        "\n",
        "The output campaign_results shows predicted revenues for different discount levels per bin."
      ],
      "metadata": {
        "id": "VDtXpXN18ai8"
      }
    },
    {
      "cell_type": "code",
      "source": [
        "# Simulate clearance campaigns\n",
        "campaign_results = simulate_clearance(final_df, bin_scores)"
      ],
      "metadata": {
        "id": "dOfQwEiP8Qi3"
      },
      "execution_count": 28,
      "outputs": []
    },
    {
      "cell_type": "code",
      "source": [
        "# Run Smart Binning\n",
        "# final_df, clusterer = smart_binning_pipeline(final_df, min_cluster_size=50)\n",
        "\n",
        "\n",
        "\n",
        "# Save results\n",
        "bin_scores.to_csv('bin_priority_scores.csv', index=False)\n",
        "campaign_results.to_csv('clearance_campaign_results.csv', index=False)\n",
        "\n",
        "print(\"✅ Smart Binning, Scoring, and Campaign Simulation Complete!\")\n"
      ],
      "metadata": {
        "colab": {
          "base_uri": "https://localhost:8080/"
        },
        "id": "l7u3yp0cFF8o",
        "outputId": "dd5d97f4-5a40-43d4-fd75-8ba855fb5ddf"
      },
      "execution_count": 29,
      "outputs": [
        {
          "output_type": "stream",
          "name": "stdout",
          "text": [
            "✅ Smart Binning, Scoring, and Campaign Simulation Complete!\n"
          ]
        }
      ]
    },
    {
      "cell_type": "code",
      "source": [
        "def suggest_clearance_strategy(bin_summary_df):\n",
        "    \"\"\"\n",
        "    Suggest clearance strategy for each bin based on avg price, sales, and elasticity.\n",
        "\n",
        "    Args:\n",
        "        bin_summary_df (pd.DataFrame): DataFrame with columns\n",
        "            ['bin', 'avg_price', 'avg_sales', 'price_elasticity', 'num_skus']\n",
        "\n",
        "    Returns:\n",
        "        pd.DataFrame: Original DataFrame with added 'clearance_strategy' column\n",
        "    \"\"\"\n",
        "    strategies = []\n",
        "\n",
        "    for _, row in bin_summary_df.iterrows():\n",
        "        price = row['avg_price']\n",
        "        sales = row['avg_sales']\n",
        "        elasticity = row['price_elasticity']\n",
        "        skus = row['num_skus']\n",
        "\n",
        "        # Strategy logic\n",
        "        if sales == 0:\n",
        "            strategy = \"50% discount, push locally\"\n",
        "        elif elasticity > 0.5:\n",
        "            strategy = \"20% discount, online only\"\n",
        "        elif price < 100 and sales < 5:\n",
        "            strategy = \"30% discount, combo offers\"\n",
        "        elif price >= 100 and sales >= 5:\n",
        "            strategy = \"10% discount, push to app users\"\n",
        "        else:\n",
        "            strategy = \"25% discount, experiment with flash sales\"\n",
        "\n",
        "        strategies.append(strategy)\n",
        "\n",
        "    bin_summary_df['clearance_strategy'] = strategies\n",
        "    return bin_summary_df\n"
      ],
      "metadata": {
        "id": "U9kzp0yX75q0"
      },
      "execution_count": 25,
      "outputs": []
    },
    {
      "cell_type": "markdown",
      "source": [
        "✅ What does suggest_clearance_strategy() expect?\n",
        "This function is designed to take a bin summary DataFrame (like bin_scores or bin_summary_df) that contains one row per bin with the following information:\n",
        "\n",
        "bin\trolling_mean_28\tprice_pct_change\tnum_items\tpriority_score\n",
        "\n",
        "It uses these columns to decide:\n",
        "\n",
        "Which bins are dead stock (e.g., zero sales)\n",
        "\n",
        "Which bins are price sensitive (high elasticity)\n",
        "\n",
        "Which bins have steady sales but could benefit from moderate discounts\n",
        "\n",
        "And then assigns a clearance strategy for each bin."
      ],
      "metadata": {
        "id": "ECDJ-mTE80wp"
      }
    },
    {
      "cell_type": "code",
      "source": [
        "\n",
        "# Suggest clearance strategies\n",
        "bin_scores = suggest_clearance_strategy(bin_scores)\n",
        "\n",
        "# Print results\n",
        "print(bin_scores[['bin', 'clearance_strategy']])\n"
      ],
      "metadata": {
        "colab": {
          "base_uri": "https://localhost:8080/",
          "height": 561
        },
        "id": "f50zqiF67-pf",
        "outputId": "59950d46-03dc-4f1a-9258-985983b7e0ba"
      },
      "execution_count": 30,
      "outputs": [
        {
          "output_type": "error",
          "ename": "KeyError",
          "evalue": "'avg_price'",
          "traceback": [
            "\u001b[0;31m---------------------------------------------------------------------------\u001b[0m",
            "\u001b[0;31mKeyError\u001b[0m                                  Traceback (most recent call last)",
            "\u001b[0;32m/usr/local/lib/python3.11/dist-packages/pandas/core/indexes/base.py\u001b[0m in \u001b[0;36mget_loc\u001b[0;34m(self, key)\u001b[0m\n\u001b[1;32m   3804\u001b[0m         \u001b[0;32mtry\u001b[0m\u001b[0;34m:\u001b[0m\u001b[0;34m\u001b[0m\u001b[0;34m\u001b[0m\u001b[0m\n\u001b[0;32m-> 3805\u001b[0;31m             \u001b[0;32mreturn\u001b[0m \u001b[0mself\u001b[0m\u001b[0;34m.\u001b[0m\u001b[0m_engine\u001b[0m\u001b[0;34m.\u001b[0m\u001b[0mget_loc\u001b[0m\u001b[0;34m(\u001b[0m\u001b[0mcasted_key\u001b[0m\u001b[0;34m)\u001b[0m\u001b[0;34m\u001b[0m\u001b[0;34m\u001b[0m\u001b[0m\n\u001b[0m\u001b[1;32m   3806\u001b[0m         \u001b[0;32mexcept\u001b[0m \u001b[0mKeyError\u001b[0m \u001b[0;32mas\u001b[0m \u001b[0merr\u001b[0m\u001b[0;34m:\u001b[0m\u001b[0;34m\u001b[0m\u001b[0;34m\u001b[0m\u001b[0m\n",
            "\u001b[0;32mindex.pyx\u001b[0m in \u001b[0;36mpandas._libs.index.IndexEngine.get_loc\u001b[0;34m()\u001b[0m\n",
            "\u001b[0;32mindex.pyx\u001b[0m in \u001b[0;36mpandas._libs.index.IndexEngine.get_loc\u001b[0;34m()\u001b[0m\n",
            "\u001b[0;32mpandas/_libs/hashtable_class_helper.pxi\u001b[0m in \u001b[0;36mpandas._libs.hashtable.PyObjectHashTable.get_item\u001b[0;34m()\u001b[0m\n",
            "\u001b[0;32mpandas/_libs/hashtable_class_helper.pxi\u001b[0m in \u001b[0;36mpandas._libs.hashtable.PyObjectHashTable.get_item\u001b[0;34m()\u001b[0m\n",
            "\u001b[0;31mKeyError\u001b[0m: 'avg_price'",
            "\nThe above exception was the direct cause of the following exception:\n",
            "\u001b[0;31mKeyError\u001b[0m                                  Traceback (most recent call last)",
            "\u001b[0;32m/tmp/ipython-input-30-1639072533.py\u001b[0m in \u001b[0;36m<cell line: 0>\u001b[0;34m()\u001b[0m\n\u001b[1;32m      1\u001b[0m \u001b[0;31m# Suggest clearance strategies\u001b[0m\u001b[0;34m\u001b[0m\u001b[0;34m\u001b[0m\u001b[0m\n\u001b[0;32m----> 2\u001b[0;31m \u001b[0mbin_scores\u001b[0m \u001b[0;34m=\u001b[0m \u001b[0msuggest_clearance_strategy\u001b[0m\u001b[0;34m(\u001b[0m\u001b[0mbin_scores\u001b[0m\u001b[0;34m)\u001b[0m\u001b[0;34m\u001b[0m\u001b[0;34m\u001b[0m\u001b[0m\n\u001b[0m\u001b[1;32m      3\u001b[0m \u001b[0;34m\u001b[0m\u001b[0m\n\u001b[1;32m      4\u001b[0m \u001b[0;31m# Print results\u001b[0m\u001b[0;34m\u001b[0m\u001b[0;34m\u001b[0m\u001b[0m\n\u001b[1;32m      5\u001b[0m \u001b[0mprint\u001b[0m\u001b[0;34m(\u001b[0m\u001b[0mbin_scores\u001b[0m\u001b[0;34m[\u001b[0m\u001b[0;34m[\u001b[0m\u001b[0;34m'bin'\u001b[0m\u001b[0;34m,\u001b[0m \u001b[0;34m'clearance_strategy'\u001b[0m\u001b[0;34m]\u001b[0m\u001b[0;34m]\u001b[0m\u001b[0;34m)\u001b[0m\u001b[0;34m\u001b[0m\u001b[0;34m\u001b[0m\u001b[0m\n",
            "\u001b[0;32m/tmp/ipython-input-25-4214653907.py\u001b[0m in \u001b[0;36msuggest_clearance_strategy\u001b[0;34m(bin_summary_df)\u001b[0m\n\u001b[1;32m     13\u001b[0m \u001b[0;34m\u001b[0m\u001b[0m\n\u001b[1;32m     14\u001b[0m     \u001b[0;32mfor\u001b[0m \u001b[0m_\u001b[0m\u001b[0;34m,\u001b[0m \u001b[0mrow\u001b[0m \u001b[0;32min\u001b[0m \u001b[0mbin_summary_df\u001b[0m\u001b[0;34m.\u001b[0m\u001b[0miterrows\u001b[0m\u001b[0;34m(\u001b[0m\u001b[0;34m)\u001b[0m\u001b[0;34m:\u001b[0m\u001b[0;34m\u001b[0m\u001b[0;34m\u001b[0m\u001b[0m\n\u001b[0;32m---> 15\u001b[0;31m         \u001b[0mprice\u001b[0m \u001b[0;34m=\u001b[0m \u001b[0mrow\u001b[0m\u001b[0;34m[\u001b[0m\u001b[0;34m'avg_price'\u001b[0m\u001b[0;34m]\u001b[0m\u001b[0;34m\u001b[0m\u001b[0;34m\u001b[0m\u001b[0m\n\u001b[0m\u001b[1;32m     16\u001b[0m         \u001b[0msales\u001b[0m \u001b[0;34m=\u001b[0m \u001b[0mrow\u001b[0m\u001b[0;34m[\u001b[0m\u001b[0;34m'avg_sales'\u001b[0m\u001b[0;34m]\u001b[0m\u001b[0;34m\u001b[0m\u001b[0;34m\u001b[0m\u001b[0m\n\u001b[1;32m     17\u001b[0m         \u001b[0melasticity\u001b[0m \u001b[0;34m=\u001b[0m \u001b[0mrow\u001b[0m\u001b[0;34m[\u001b[0m\u001b[0;34m'price_elasticity'\u001b[0m\u001b[0;34m]\u001b[0m\u001b[0;34m\u001b[0m\u001b[0;34m\u001b[0m\u001b[0m\n",
            "\u001b[0;32m/usr/local/lib/python3.11/dist-packages/pandas/core/series.py\u001b[0m in \u001b[0;36m__getitem__\u001b[0;34m(self, key)\u001b[0m\n\u001b[1;32m   1119\u001b[0m \u001b[0;34m\u001b[0m\u001b[0m\n\u001b[1;32m   1120\u001b[0m         \u001b[0;32melif\u001b[0m \u001b[0mkey_is_scalar\u001b[0m\u001b[0;34m:\u001b[0m\u001b[0;34m\u001b[0m\u001b[0;34m\u001b[0m\u001b[0m\n\u001b[0;32m-> 1121\u001b[0;31m             \u001b[0;32mreturn\u001b[0m \u001b[0mself\u001b[0m\u001b[0;34m.\u001b[0m\u001b[0m_get_value\u001b[0m\u001b[0;34m(\u001b[0m\u001b[0mkey\u001b[0m\u001b[0;34m)\u001b[0m\u001b[0;34m\u001b[0m\u001b[0;34m\u001b[0m\u001b[0m\n\u001b[0m\u001b[1;32m   1122\u001b[0m \u001b[0;34m\u001b[0m\u001b[0m\n\u001b[1;32m   1123\u001b[0m         \u001b[0;31m# Convert generator to list before going through hashable part\u001b[0m\u001b[0;34m\u001b[0m\u001b[0;34m\u001b[0m\u001b[0m\n",
            "\u001b[0;32m/usr/local/lib/python3.11/dist-packages/pandas/core/series.py\u001b[0m in \u001b[0;36m_get_value\u001b[0;34m(self, label, takeable)\u001b[0m\n\u001b[1;32m   1235\u001b[0m \u001b[0;34m\u001b[0m\u001b[0m\n\u001b[1;32m   1236\u001b[0m         \u001b[0;31m# Similar to Index.get_value, but we do not fall back to positional\u001b[0m\u001b[0;34m\u001b[0m\u001b[0;34m\u001b[0m\u001b[0m\n\u001b[0;32m-> 1237\u001b[0;31m         \u001b[0mloc\u001b[0m \u001b[0;34m=\u001b[0m \u001b[0mself\u001b[0m\u001b[0;34m.\u001b[0m\u001b[0mindex\u001b[0m\u001b[0;34m.\u001b[0m\u001b[0mget_loc\u001b[0m\u001b[0;34m(\u001b[0m\u001b[0mlabel\u001b[0m\u001b[0;34m)\u001b[0m\u001b[0;34m\u001b[0m\u001b[0;34m\u001b[0m\u001b[0m\n\u001b[0m\u001b[1;32m   1238\u001b[0m \u001b[0;34m\u001b[0m\u001b[0m\n\u001b[1;32m   1239\u001b[0m         \u001b[0;32mif\u001b[0m \u001b[0mis_integer\u001b[0m\u001b[0;34m(\u001b[0m\u001b[0mloc\u001b[0m\u001b[0;34m)\u001b[0m\u001b[0;34m:\u001b[0m\u001b[0;34m\u001b[0m\u001b[0;34m\u001b[0m\u001b[0m\n",
            "\u001b[0;32m/usr/local/lib/python3.11/dist-packages/pandas/core/indexes/base.py\u001b[0m in \u001b[0;36mget_loc\u001b[0;34m(self, key)\u001b[0m\n\u001b[1;32m   3810\u001b[0m             ):\n\u001b[1;32m   3811\u001b[0m                 \u001b[0;32mraise\u001b[0m \u001b[0mInvalidIndexError\u001b[0m\u001b[0;34m(\u001b[0m\u001b[0mkey\u001b[0m\u001b[0;34m)\u001b[0m\u001b[0;34m\u001b[0m\u001b[0;34m\u001b[0m\u001b[0m\n\u001b[0;32m-> 3812\u001b[0;31m             \u001b[0;32mraise\u001b[0m \u001b[0mKeyError\u001b[0m\u001b[0;34m(\u001b[0m\u001b[0mkey\u001b[0m\u001b[0;34m)\u001b[0m \u001b[0;32mfrom\u001b[0m \u001b[0merr\u001b[0m\u001b[0;34m\u001b[0m\u001b[0;34m\u001b[0m\u001b[0m\n\u001b[0m\u001b[1;32m   3813\u001b[0m         \u001b[0;32mexcept\u001b[0m \u001b[0mTypeError\u001b[0m\u001b[0;34m:\u001b[0m\u001b[0;34m\u001b[0m\u001b[0;34m\u001b[0m\u001b[0m\n\u001b[1;32m   3814\u001b[0m             \u001b[0;31m# If we have a listlike key, _check_indexing_error will raise\u001b[0m\u001b[0;34m\u001b[0m\u001b[0;34m\u001b[0m\u001b[0m\n",
            "\u001b[0;31mKeyError\u001b[0m: 'avg_price'"
          ]
        }
      ]
    },
    {
      "cell_type": "markdown",
      "source": [
        "🔥 Why not final_df?\n",
        "❌ final_df contains SKU-level data (thousands of rows).\n",
        "\n",
        "✅ suggest_clearance_strategy() expects bin-level data (1 row per bin).\n",
        "\n",
        "So you must pass bin_scores."
      ],
      "metadata": {
        "id": "jcfC9Jv28-EI"
      }
    }
  ]
}